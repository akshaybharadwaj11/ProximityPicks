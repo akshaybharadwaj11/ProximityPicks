{
 "cells": [
  {
   "cell_type": "markdown",
   "metadata": {},
   "source": [
    "# Conversational AI\n",
    "\n",
    "This notebook contains the code to train a Transformer for creating a chatbot integrated with Neo4j graphj database\n"
   ]
  },
  {
   "cell_type": "code",
   "execution_count": 1,
   "metadata": {},
   "outputs": [
    {
     "data": {
      "application/vnd.jupyter.widget-view+json": {
       "model_id": "7b43065e50c747f58988578a9cc7d7a1",
       "version_major": 2,
       "version_minor": 0
      },
      "text/plain": [
       "vocab.json:   0%|          | 0.00/1.04M [00:00<?, ?B/s]"
      ]
     },
     "metadata": {},
     "output_type": "display_data"
    },
    {
     "data": {
      "application/vnd.jupyter.widget-view+json": {
       "model_id": "fda880fef119405bb7e78eedbab8d02b",
       "version_major": 2,
       "version_minor": 0
      },
      "text/plain": [
       "merges.txt:   0%|          | 0.00/456k [00:00<?, ?B/s]"
      ]
     },
     "metadata": {},
     "output_type": "display_data"
    },
    {
     "data": {
      "application/vnd.jupyter.widget-view+json": {
       "model_id": "04bd0b17254f498fb3e4fedf8b94c99f",
       "version_major": 2,
       "version_minor": 0
      },
      "text/plain": [
       "tokenizer.json:   0%|          | 0.00/1.36M [00:00<?, ?B/s]"
      ]
     },
     "metadata": {},
     "output_type": "display_data"
    },
    {
     "data": {
      "application/vnd.jupyter.widget-view+json": {
       "model_id": "46643bcfbd3b415c83f9fea3ab2e3182",
       "version_major": 2,
       "version_minor": 0
      },
      "text/plain": [
       "config.json:   0%|          | 0.00/665 [00:00<?, ?B/s]"
      ]
     },
     "metadata": {},
     "output_type": "display_data"
    },
    {
     "data": {
      "application/vnd.jupyter.widget-view+json": {
       "model_id": "e4b16d3d138549e6a4ee04336681f217",
       "version_major": 2,
       "version_minor": 0
      },
      "text/plain": [
       "model.safetensors:   0%|          | 0.00/548M [00:00<?, ?B/s]"
      ]
     },
     "metadata": {},
     "output_type": "display_data"
    },
    {
     "data": {
      "application/vnd.jupyter.widget-view+json": {
       "model_id": "4b1b7b88803443158356869992fb5dba",
       "version_major": 2,
       "version_minor": 0
      },
      "text/plain": [
       "generation_config.json:   0%|          | 0.00/124 [00:00<?, ?B/s]"
      ]
     },
     "metadata": {},
     "output_type": "display_data"
    },
    {
     "name": "stdout",
     "output_type": "stream",
     "text": [
      "Epoch: 1, Loss: 2.843620777130127\n",
      "Epoch: 1, Loss: 3.0680181980133057\n",
      "Epoch: 2, Loss: 2.8434765338897705\n",
      "Epoch: 2, Loss: 2.0682106018066406\n",
      "Epoch: 3, Loss: 1.8928117752075195\n",
      "Epoch: 3, Loss: 2.265192747116089\n",
      "Epoch: 4, Loss: 1.5362848043441772\n",
      "Epoch: 4, Loss: 1.9792900085449219\n",
      "Epoch: 5, Loss: 1.1883094310760498\n",
      "Epoch: 5, Loss: 1.7372899055480957\n"
     ]
    }
   ],
   "source": [
    "import torch\n",
    "from transformers import GPT2LMHeadModel, GPT2Tokenizer, GPT2Config\n",
    "from torch.utils.data import Dataset, DataLoader\n",
    "\n",
    "# Define a simple dataset class\n",
    "class ChatDataset(Dataset):\n",
    "    def __init__(self, conversations):\n",
    "        self.conversations = conversations\n",
    "        self.tokenizer = GPT2Tokenizer.from_pretrained(\"gpt2\")\n",
    "\n",
    "    def __len__(self):\n",
    "        return len(self.conversations)\n",
    "\n",
    "    def __getitem__(self, idx):\n",
    "        conversation = self.conversations[idx]\n",
    "        inputs = self.tokenizer.encode(conversation, return_tensors=\"pt\")\n",
    "        return {\"input_ids\": inputs.squeeze()}\n",
    "\n",
    "# Load and preprocess your chatbot dataset\n",
    "conversations = [\"User: Hi! How are you?\", \"Bot: I'm doing well, thank you!\"]\n",
    "\n",
    "dataset = ChatDataset(conversations)\n",
    "\n",
    "# Model configuration\n",
    "model_config = GPT2Config.from_pretrained(\"gpt2\")\n",
    "model_config.is_decoder = True  # Set the model as a decoder\n",
    "\n",
    "# Load the pre-trained GPT-2 model\n",
    "chatbot_model = GPT2LMHeadModel.from_pretrained(\"gpt2\", config=model_config)\n",
    "\n",
    "# Training settings\n",
    "optimizer = torch.optim.AdamW(chatbot_model.parameters(), lr=1e-5)\n",
    "train_dataloader = DataLoader(dataset, batch_size=1, shuffle=True)\n",
    "\n",
    "# Training loop\n",
    "num_epochs = 5\n",
    "\n",
    "for epoch in range(num_epochs):\n",
    "    for batch in train_dataloader:\n",
    "        inputs = batch[\"input_ids\"]\n",
    "        outputs = chatbot_model(inputs, labels=inputs)\n",
    "        loss = outputs.loss\n",
    "\n",
    "        optimizer.zero_grad()\n",
    "        loss.backward()\n",
    "        optimizer.step()\n",
    "\n",
    "        print(f\"Epoch: {epoch + 1}, Loss: {loss.item()}\")\n",
    "\n",
    "# Save the trained model\n",
    "chatbot_model.save_pretrained(\"chatbot_model\")\n"
   ]
  },
  {
   "cell_type": "code",
   "execution_count": null,
   "metadata": {},
   "outputs": [],
   "source": []
  },
  {
   "cell_type": "code",
   "execution_count": null,
   "metadata": {},
   "outputs": [],
   "source": []
  }
 ],
 "metadata": {
  "kernelspec": {
   "display_name": "Python 3",
   "language": "python",
   "name": "python3"
  },
  "language_info": {
   "codemirror_mode": {
    "name": "ipython",
    "version": 3
   },
   "file_extension": ".py",
   "mimetype": "text/x-python",
   "name": "python",
   "nbconvert_exporter": "python",
   "pygments_lexer": "ipython3",
   "version": "3.11.0"
  }
 },
 "nbformat": 4,
 "nbformat_minor": 2
}
